{
 "cells": [
  {
   "cell_type": "markdown",
   "metadata": {},
   "source": [
    "# Mahalakshmi S"
   ]
  },
  {
   "cell_type": "markdown",
   "metadata": {},
   "source": [
    "# Task-04 Exploratory Data Analysis"
   ]
  },
  {
   "cell_type": "markdown",
   "metadata": {},
   "source": [
    "### Import Libraries"
   ]
  },
  {
   "cell_type": "code",
   "execution_count": 10,
   "metadata": {},
   "outputs": [],
   "source": [
    "import pandas as pd\n",
    "import numpy as np\n",
    "import os\n",
    "import matplotlib.pyplot as plt\n",
    "import seaborn as sns"
   ]
  },
  {
   "cell_type": "code",
   "execution_count": 11,
   "metadata": {},
   "outputs": [],
   "source": [
    "import warnings\n",
    "warnings.simplefilter(\"ignore\")"
   ]
  },
  {
   "cell_type": "markdown",
   "metadata": {},
   "source": [
    "### Load dataset"
   ]
  },
  {
   "cell_type": "code",
   "execution_count": 12,
   "metadata": {},
   "outputs": [],
   "source": [
    "gt=pd.read_csv('globalterrorismdb_0718dist.csv',encoding='latin1')"
   ]
  },
  {
   "cell_type": "code",
   "execution_count": 13,
   "metadata": {
    "scrolled": false
   },
   "outputs": [
    {
     "data": {
      "text/html": [
       "<div>\n",
       "<style scoped>\n",
       "    .dataframe tbody tr th:only-of-type {\n",
       "        vertical-align: middle;\n",
       "    }\n",
       "\n",
       "    .dataframe tbody tr th {\n",
       "        vertical-align: top;\n",
       "    }\n",
       "\n",
       "    .dataframe thead th {\n",
       "        text-align: right;\n",
       "    }\n",
       "</style>\n",
       "<table border=\"1\" class=\"dataframe\">\n",
       "  <thead>\n",
       "    <tr style=\"text-align: right;\">\n",
       "      <th></th>\n",
       "      <th>eventid</th>\n",
       "      <th>iyear</th>\n",
       "      <th>imonth</th>\n",
       "      <th>iday</th>\n",
       "      <th>approxdate</th>\n",
       "      <th>extended</th>\n",
       "      <th>resolution</th>\n",
       "      <th>country</th>\n",
       "      <th>country_txt</th>\n",
       "      <th>region</th>\n",
       "      <th>...</th>\n",
       "      <th>addnotes</th>\n",
       "      <th>scite1</th>\n",
       "      <th>scite2</th>\n",
       "      <th>scite3</th>\n",
       "      <th>dbsource</th>\n",
       "      <th>INT_LOG</th>\n",
       "      <th>INT_IDEO</th>\n",
       "      <th>INT_MISC</th>\n",
       "      <th>INT_ANY</th>\n",
       "      <th>related</th>\n",
       "    </tr>\n",
       "  </thead>\n",
       "  <tbody>\n",
       "    <tr>\n",
       "      <th>0</th>\n",
       "      <td>197000000001</td>\n",
       "      <td>1970</td>\n",
       "      <td>7</td>\n",
       "      <td>2</td>\n",
       "      <td>NaN</td>\n",
       "      <td>0</td>\n",
       "      <td>NaN</td>\n",
       "      <td>58</td>\n",
       "      <td>Dominican Republic</td>\n",
       "      <td>2</td>\n",
       "      <td>...</td>\n",
       "      <td>NaN</td>\n",
       "      <td>NaN</td>\n",
       "      <td>NaN</td>\n",
       "      <td>NaN</td>\n",
       "      <td>PGIS</td>\n",
       "      <td>0</td>\n",
       "      <td>0</td>\n",
       "      <td>0</td>\n",
       "      <td>0</td>\n",
       "      <td>NaN</td>\n",
       "    </tr>\n",
       "    <tr>\n",
       "      <th>1</th>\n",
       "      <td>197000000002</td>\n",
       "      <td>1970</td>\n",
       "      <td>0</td>\n",
       "      <td>0</td>\n",
       "      <td>NaN</td>\n",
       "      <td>0</td>\n",
       "      <td>NaN</td>\n",
       "      <td>130</td>\n",
       "      <td>Mexico</td>\n",
       "      <td>1</td>\n",
       "      <td>...</td>\n",
       "      <td>NaN</td>\n",
       "      <td>NaN</td>\n",
       "      <td>NaN</td>\n",
       "      <td>NaN</td>\n",
       "      <td>PGIS</td>\n",
       "      <td>0</td>\n",
       "      <td>1</td>\n",
       "      <td>1</td>\n",
       "      <td>1</td>\n",
       "      <td>NaN</td>\n",
       "    </tr>\n",
       "    <tr>\n",
       "      <th>2</th>\n",
       "      <td>197001000001</td>\n",
       "      <td>1970</td>\n",
       "      <td>1</td>\n",
       "      <td>0</td>\n",
       "      <td>NaN</td>\n",
       "      <td>0</td>\n",
       "      <td>NaN</td>\n",
       "      <td>160</td>\n",
       "      <td>Philippines</td>\n",
       "      <td>5</td>\n",
       "      <td>...</td>\n",
       "      <td>NaN</td>\n",
       "      <td>NaN</td>\n",
       "      <td>NaN</td>\n",
       "      <td>NaN</td>\n",
       "      <td>PGIS</td>\n",
       "      <td>-9</td>\n",
       "      <td>-9</td>\n",
       "      <td>1</td>\n",
       "      <td>1</td>\n",
       "      <td>NaN</td>\n",
       "    </tr>\n",
       "    <tr>\n",
       "      <th>3</th>\n",
       "      <td>197001000002</td>\n",
       "      <td>1970</td>\n",
       "      <td>1</td>\n",
       "      <td>0</td>\n",
       "      <td>NaN</td>\n",
       "      <td>0</td>\n",
       "      <td>NaN</td>\n",
       "      <td>78</td>\n",
       "      <td>Greece</td>\n",
       "      <td>8</td>\n",
       "      <td>...</td>\n",
       "      <td>NaN</td>\n",
       "      <td>NaN</td>\n",
       "      <td>NaN</td>\n",
       "      <td>NaN</td>\n",
       "      <td>PGIS</td>\n",
       "      <td>-9</td>\n",
       "      <td>-9</td>\n",
       "      <td>1</td>\n",
       "      <td>1</td>\n",
       "      <td>NaN</td>\n",
       "    </tr>\n",
       "    <tr>\n",
       "      <th>4</th>\n",
       "      <td>197001000003</td>\n",
       "      <td>1970</td>\n",
       "      <td>1</td>\n",
       "      <td>0</td>\n",
       "      <td>NaN</td>\n",
       "      <td>0</td>\n",
       "      <td>NaN</td>\n",
       "      <td>101</td>\n",
       "      <td>Japan</td>\n",
       "      <td>4</td>\n",
       "      <td>...</td>\n",
       "      <td>NaN</td>\n",
       "      <td>NaN</td>\n",
       "      <td>NaN</td>\n",
       "      <td>NaN</td>\n",
       "      <td>PGIS</td>\n",
       "      <td>-9</td>\n",
       "      <td>-9</td>\n",
       "      <td>1</td>\n",
       "      <td>1</td>\n",
       "      <td>NaN</td>\n",
       "    </tr>\n",
       "  </tbody>\n",
       "</table>\n",
       "<p>5 rows × 135 columns</p>\n",
       "</div>"
      ],
      "text/plain": [
       "        eventid  iyear  imonth  iday approxdate  extended resolution  country  \\\n",
       "0  197000000001   1970       7     2        NaN         0        NaN       58   \n",
       "1  197000000002   1970       0     0        NaN         0        NaN      130   \n",
       "2  197001000001   1970       1     0        NaN         0        NaN      160   \n",
       "3  197001000002   1970       1     0        NaN         0        NaN       78   \n",
       "4  197001000003   1970       1     0        NaN         0        NaN      101   \n",
       "\n",
       "          country_txt  region  ... addnotes scite1 scite2  scite3  dbsource  \\\n",
       "0  Dominican Republic       2  ...      NaN    NaN    NaN     NaN      PGIS   \n",
       "1              Mexico       1  ...      NaN    NaN    NaN     NaN      PGIS   \n",
       "2         Philippines       5  ...      NaN    NaN    NaN     NaN      PGIS   \n",
       "3              Greece       8  ...      NaN    NaN    NaN     NaN      PGIS   \n",
       "4               Japan       4  ...      NaN    NaN    NaN     NaN      PGIS   \n",
       "\n",
       "   INT_LOG  INT_IDEO INT_MISC INT_ANY  related  \n",
       "0        0         0        0       0      NaN  \n",
       "1        0         1        1       1      NaN  \n",
       "2       -9        -9        1       1      NaN  \n",
       "3       -9        -9        1       1      NaN  \n",
       "4       -9        -9        1       1      NaN  \n",
       "\n",
       "[5 rows x 135 columns]"
      ]
     },
     "execution_count": 13,
     "metadata": {},
     "output_type": "execute_result"
    }
   ],
   "source": [
    "gt.head()"
   ]
  },
  {
   "cell_type": "markdown",
   "metadata": {},
   "source": [
    "### Select particular Column"
   ]
  },
  {
   "cell_type": "code",
   "execution_count": 14,
   "metadata": {},
   "outputs": [
    {
     "data": {
      "text/html": [
       "<div>\n",
       "<style scoped>\n",
       "    .dataframe tbody tr th:only-of-type {\n",
       "        vertical-align: middle;\n",
       "    }\n",
       "\n",
       "    .dataframe tbody tr th {\n",
       "        vertical-align: top;\n",
       "    }\n",
       "\n",
       "    .dataframe thead th {\n",
       "        text-align: right;\n",
       "    }\n",
       "</style>\n",
       "<table border=\"1\" class=\"dataframe\">\n",
       "  <thead>\n",
       "    <tr style=\"text-align: right;\">\n",
       "      <th></th>\n",
       "      <th>iyear</th>\n",
       "      <th>imonth</th>\n",
       "      <th>iday</th>\n",
       "      <th>extended</th>\n",
       "      <th>country_txt</th>\n",
       "      <th>region_txt</th>\n",
       "      <th>city</th>\n",
       "      <th>success</th>\n",
       "      <th>suicide</th>\n",
       "      <th>nwound</th>\n",
       "      <th>nkill</th>\n",
       "      <th>targtype1_txt</th>\n",
       "      <th>gname</th>\n",
       "      <th>weaptype1_txt</th>\n",
       "    </tr>\n",
       "  </thead>\n",
       "  <tbody>\n",
       "    <tr>\n",
       "      <th>0</th>\n",
       "      <td>1970</td>\n",
       "      <td>7</td>\n",
       "      <td>2</td>\n",
       "      <td>0</td>\n",
       "      <td>Dominican Republic</td>\n",
       "      <td>Central America &amp; Caribbean</td>\n",
       "      <td>Santo Domingo</td>\n",
       "      <td>1</td>\n",
       "      <td>0</td>\n",
       "      <td>0.0</td>\n",
       "      <td>1.0</td>\n",
       "      <td>Private Citizens &amp; Property</td>\n",
       "      <td>MANO-D</td>\n",
       "      <td>Unknown</td>\n",
       "    </tr>\n",
       "    <tr>\n",
       "      <th>1</th>\n",
       "      <td>1970</td>\n",
       "      <td>0</td>\n",
       "      <td>0</td>\n",
       "      <td>0</td>\n",
       "      <td>Mexico</td>\n",
       "      <td>North America</td>\n",
       "      <td>Mexico city</td>\n",
       "      <td>1</td>\n",
       "      <td>0</td>\n",
       "      <td>0.0</td>\n",
       "      <td>0.0</td>\n",
       "      <td>Government (Diplomatic)</td>\n",
       "      <td>23rd of September Communist League</td>\n",
       "      <td>Unknown</td>\n",
       "    </tr>\n",
       "    <tr>\n",
       "      <th>2</th>\n",
       "      <td>1970</td>\n",
       "      <td>1</td>\n",
       "      <td>0</td>\n",
       "      <td>0</td>\n",
       "      <td>Philippines</td>\n",
       "      <td>Southeast Asia</td>\n",
       "      <td>Unknown</td>\n",
       "      <td>1</td>\n",
       "      <td>0</td>\n",
       "      <td>0.0</td>\n",
       "      <td>1.0</td>\n",
       "      <td>Journalists &amp; Media</td>\n",
       "      <td>Unknown</td>\n",
       "      <td>Unknown</td>\n",
       "    </tr>\n",
       "    <tr>\n",
       "      <th>3</th>\n",
       "      <td>1970</td>\n",
       "      <td>1</td>\n",
       "      <td>0</td>\n",
       "      <td>0</td>\n",
       "      <td>Greece</td>\n",
       "      <td>Western Europe</td>\n",
       "      <td>Athens</td>\n",
       "      <td>1</td>\n",
       "      <td>0</td>\n",
       "      <td>NaN</td>\n",
       "      <td>NaN</td>\n",
       "      <td>Government (Diplomatic)</td>\n",
       "      <td>Unknown</td>\n",
       "      <td>Explosives</td>\n",
       "    </tr>\n",
       "    <tr>\n",
       "      <th>4</th>\n",
       "      <td>1970</td>\n",
       "      <td>1</td>\n",
       "      <td>0</td>\n",
       "      <td>0</td>\n",
       "      <td>Japan</td>\n",
       "      <td>East Asia</td>\n",
       "      <td>Fukouka</td>\n",
       "      <td>1</td>\n",
       "      <td>0</td>\n",
       "      <td>NaN</td>\n",
       "      <td>NaN</td>\n",
       "      <td>Government (Diplomatic)</td>\n",
       "      <td>Unknown</td>\n",
       "      <td>Incendiary</td>\n",
       "    </tr>\n",
       "  </tbody>\n",
       "</table>\n",
       "</div>"
      ],
      "text/plain": [
       "   iyear  imonth  iday  extended         country_txt  \\\n",
       "0   1970       7     2         0  Dominican Republic   \n",
       "1   1970       0     0         0              Mexico   \n",
       "2   1970       1     0         0         Philippines   \n",
       "3   1970       1     0         0              Greece   \n",
       "4   1970       1     0         0               Japan   \n",
       "\n",
       "                    region_txt           city  success  suicide  nwound  \\\n",
       "0  Central America & Caribbean  Santo Domingo        1        0     0.0   \n",
       "1                North America    Mexico city        1        0     0.0   \n",
       "2               Southeast Asia        Unknown        1        0     0.0   \n",
       "3               Western Europe         Athens        1        0     NaN   \n",
       "4                    East Asia        Fukouka        1        0     NaN   \n",
       "\n",
       "   nkill                targtype1_txt                               gname  \\\n",
       "0    1.0  Private Citizens & Property                              MANO-D   \n",
       "1    0.0      Government (Diplomatic)  23rd of September Communist League   \n",
       "2    1.0          Journalists & Media                             Unknown   \n",
       "3    NaN      Government (Diplomatic)                             Unknown   \n",
       "4    NaN      Government (Diplomatic)                             Unknown   \n",
       "\n",
       "  weaptype1_txt  \n",
       "0       Unknown  \n",
       "1       Unknown  \n",
       "2       Unknown  \n",
       "3    Explosives  \n",
       "4    Incendiary  "
      ]
     },
     "execution_count": 14,
     "metadata": {},
     "output_type": "execute_result"
    }
   ],
   "source": [
    "data=gt.copy()\n",
    "\n",
    "gt=gt[['iyear', 'imonth', 'iday','extended', 'country_txt', \n",
    "       'region_txt', 'city', 'success', 'suicide','nwound','nkill',\n",
    "       'targtype1_txt', 'gname', 'weaptype1_txt']]\n",
    "gt.head()"
   ]
  },
  {
   "cell_type": "code",
   "execution_count": 15,
   "metadata": {
    "scrolled": true
   },
   "outputs": [
    {
     "data": {
      "text/plain": [
       "Index(['iyear', 'imonth', 'iday', 'extended', 'country_txt', 'region_txt',\n",
       "       'city', 'success', 'suicide', 'nwound', 'nkill', 'targtype1_txt',\n",
       "       'gname', 'weaptype1_txt'],\n",
       "      dtype='object')"
      ]
     },
     "execution_count": 15,
     "metadata": {},
     "output_type": "execute_result"
    }
   ],
   "source": [
    "gt.columns"
   ]
  },
  {
   "cell_type": "markdown",
   "metadata": {},
   "source": [
    "### Check null values or not"
   ]
  },
  {
   "cell_type": "code",
   "execution_count": 16,
   "metadata": {},
   "outputs": [
    {
     "data": {
      "text/plain": [
       "iyear                0\n",
       "imonth               0\n",
       "iday                 0\n",
       "extended             0\n",
       "country_txt          0\n",
       "region_txt           0\n",
       "city               434\n",
       "success              0\n",
       "suicide              0\n",
       "nwound           16311\n",
       "nkill            10313\n",
       "targtype1_txt        0\n",
       "gname                0\n",
       "weaptype1_txt        0\n",
       "dtype: int64"
      ]
     },
     "execution_count": 16,
     "metadata": {},
     "output_type": "execute_result"
    }
   ],
   "source": [
    "gt.isnull().sum()"
   ]
  },
  {
   "cell_type": "markdown",
   "metadata": {},
   "source": [
    "### drop null values"
   ]
  },
  {
   "cell_type": "code",
   "execution_count": 17,
   "metadata": {},
   "outputs": [],
   "source": [
    "gt.dropna(axis=0, inplace=True)"
   ]
  },
  {
   "cell_type": "markdown",
   "metadata": {},
   "source": [
    "### Renaming columns"
   ]
  },
  {
   "cell_type": "code",
   "execution_count": 19,
   "metadata": {
    "scrolled": false
   },
   "outputs": [],
   "source": [
    "gt.rename(columns={'iyear': 'year', 'imonth': 'month', 'iday':'day', 'country_txt':'country','attacktype1_txt':'attactype','nwound':'wound','nkill':'killed',\n",
    "                  'region_txt':'region', 'targtype1_txt':'target', 'gname':'group', 'weaptype1_txt':'weapon'}, inplace=True)"
   ]
  },
  {
   "cell_type": "code",
   "execution_count": 20,
   "metadata": {},
   "outputs": [
    {
     "data": {
      "text/html": [
       "<div>\n",
       "<style scoped>\n",
       "    .dataframe tbody tr th:only-of-type {\n",
       "        vertical-align: middle;\n",
       "    }\n",
       "\n",
       "    .dataframe tbody tr th {\n",
       "        vertical-align: top;\n",
       "    }\n",
       "\n",
       "    .dataframe thead th {\n",
       "        text-align: right;\n",
       "    }\n",
       "</style>\n",
       "<table border=\"1\" class=\"dataframe\">\n",
       "  <thead>\n",
       "    <tr style=\"text-align: right;\">\n",
       "      <th></th>\n",
       "      <th>year</th>\n",
       "      <th>month</th>\n",
       "      <th>day</th>\n",
       "      <th>extended</th>\n",
       "      <th>country</th>\n",
       "      <th>region</th>\n",
       "      <th>city</th>\n",
       "      <th>success</th>\n",
       "      <th>suicide</th>\n",
       "      <th>wound</th>\n",
       "      <th>killed</th>\n",
       "      <th>target</th>\n",
       "      <th>group</th>\n",
       "      <th>weapon</th>\n",
       "    </tr>\n",
       "  </thead>\n",
       "  <tbody>\n",
       "    <tr>\n",
       "      <th>0</th>\n",
       "      <td>1970</td>\n",
       "      <td>7</td>\n",
       "      <td>2</td>\n",
       "      <td>0</td>\n",
       "      <td>Dominican Republic</td>\n",
       "      <td>Central America &amp; Caribbean</td>\n",
       "      <td>Santo Domingo</td>\n",
       "      <td>1</td>\n",
       "      <td>0</td>\n",
       "      <td>0.0</td>\n",
       "      <td>1.0</td>\n",
       "      <td>Private Citizens &amp; Property</td>\n",
       "      <td>MANO-D</td>\n",
       "      <td>Unknown</td>\n",
       "    </tr>\n",
       "    <tr>\n",
       "      <th>1</th>\n",
       "      <td>1970</td>\n",
       "      <td>0</td>\n",
       "      <td>0</td>\n",
       "      <td>0</td>\n",
       "      <td>Mexico</td>\n",
       "      <td>North America</td>\n",
       "      <td>Mexico city</td>\n",
       "      <td>1</td>\n",
       "      <td>0</td>\n",
       "      <td>0.0</td>\n",
       "      <td>0.0</td>\n",
       "      <td>Government (Diplomatic)</td>\n",
       "      <td>23rd of September Communist League</td>\n",
       "      <td>Unknown</td>\n",
       "    </tr>\n",
       "    <tr>\n",
       "      <th>2</th>\n",
       "      <td>1970</td>\n",
       "      <td>1</td>\n",
       "      <td>0</td>\n",
       "      <td>0</td>\n",
       "      <td>Philippines</td>\n",
       "      <td>Southeast Asia</td>\n",
       "      <td>Unknown</td>\n",
       "      <td>1</td>\n",
       "      <td>0</td>\n",
       "      <td>0.0</td>\n",
       "      <td>1.0</td>\n",
       "      <td>Journalists &amp; Media</td>\n",
       "      <td>Unknown</td>\n",
       "      <td>Unknown</td>\n",
       "    </tr>\n",
       "    <tr>\n",
       "      <th>5</th>\n",
       "      <td>1970</td>\n",
       "      <td>1</td>\n",
       "      <td>1</td>\n",
       "      <td>0</td>\n",
       "      <td>United States</td>\n",
       "      <td>North America</td>\n",
       "      <td>Cairo</td>\n",
       "      <td>1</td>\n",
       "      <td>0</td>\n",
       "      <td>0.0</td>\n",
       "      <td>0.0</td>\n",
       "      <td>Police</td>\n",
       "      <td>Black Nationalists</td>\n",
       "      <td>Firearms</td>\n",
       "    </tr>\n",
       "    <tr>\n",
       "      <th>6</th>\n",
       "      <td>1970</td>\n",
       "      <td>1</td>\n",
       "      <td>2</td>\n",
       "      <td>0</td>\n",
       "      <td>Uruguay</td>\n",
       "      <td>South America</td>\n",
       "      <td>Montevideo</td>\n",
       "      <td>0</td>\n",
       "      <td>0</td>\n",
       "      <td>0.0</td>\n",
       "      <td>0.0</td>\n",
       "      <td>Police</td>\n",
       "      <td>Tupamaros (Uruguay)</td>\n",
       "      <td>Firearms</td>\n",
       "    </tr>\n",
       "  </tbody>\n",
       "</table>\n",
       "</div>"
      ],
      "text/plain": [
       "   year  month  day  extended             country  \\\n",
       "0  1970      7    2         0  Dominican Republic   \n",
       "1  1970      0    0         0              Mexico   \n",
       "2  1970      1    0         0         Philippines   \n",
       "5  1970      1    1         0       United States   \n",
       "6  1970      1    2         0             Uruguay   \n",
       "\n",
       "                        region           city  success  suicide  wound  \\\n",
       "0  Central America & Caribbean  Santo Domingo        1        0    0.0   \n",
       "1                North America    Mexico city        1        0    0.0   \n",
       "2               Southeast Asia        Unknown        1        0    0.0   \n",
       "5                North America          Cairo        1        0    0.0   \n",
       "6                South America     Montevideo        0        0    0.0   \n",
       "\n",
       "   killed                       target                               group  \\\n",
       "0     1.0  Private Citizens & Property                              MANO-D   \n",
       "1     0.0      Government (Diplomatic)  23rd of September Communist League   \n",
       "2     1.0          Journalists & Media                             Unknown   \n",
       "5     0.0                       Police                  Black Nationalists   \n",
       "6     0.0                       Police                 Tupamaros (Uruguay)   \n",
       "\n",
       "     weapon  \n",
       "0   Unknown  \n",
       "1   Unknown  \n",
       "2   Unknown  \n",
       "5  Firearms  \n",
       "6  Firearms  "
      ]
     },
     "execution_count": 20,
     "metadata": {},
     "output_type": "execute_result"
    }
   ],
   "source": [
    "gt.head()"
   ]
  },
  {
   "cell_type": "code",
   "execution_count": 21,
   "metadata": {
    "scrolled": true
   },
   "outputs": [
    {
     "data": {
      "text/plain": [
       "Index(['year', 'month', 'day', 'extended', 'country', 'region', 'city',\n",
       "       'success', 'suicide', 'wound', 'killed', 'target', 'group', 'weapon'],\n",
       "      dtype='object')"
      ]
     },
     "execution_count": 21,
     "metadata": {},
     "output_type": "execute_result"
    }
   ],
   "source": [
    "gt.columns"
   ]
  },
  {
   "cell_type": "markdown",
   "metadata": {},
   "source": [
    "### Statistics "
   ]
  },
  {
   "cell_type": "code",
   "execution_count": 22,
   "metadata": {},
   "outputs": [
    {
     "data": {
      "text/html": [
       "<div>\n",
       "<style scoped>\n",
       "    .dataframe tbody tr th:only-of-type {\n",
       "        vertical-align: middle;\n",
       "    }\n",
       "\n",
       "    .dataframe tbody tr th {\n",
       "        vertical-align: top;\n",
       "    }\n",
       "\n",
       "    .dataframe thead th {\n",
       "        text-align: right;\n",
       "    }\n",
       "</style>\n",
       "<table border=\"1\" class=\"dataframe\">\n",
       "  <thead>\n",
       "    <tr style=\"text-align: right;\">\n",
       "      <th></th>\n",
       "      <th>count</th>\n",
       "      <th>mean</th>\n",
       "      <th>std</th>\n",
       "      <th>min</th>\n",
       "      <th>25%</th>\n",
       "      <th>50%</th>\n",
       "      <th>75%</th>\n",
       "      <th>max</th>\n",
       "    </tr>\n",
       "  </thead>\n",
       "  <tbody>\n",
       "    <tr>\n",
       "      <th>year</th>\n",
       "      <td>164384.0</td>\n",
       "      <td>2003.174348</td>\n",
       "      <td>12.789087</td>\n",
       "      <td>1970.0</td>\n",
       "      <td>1991.0</td>\n",
       "      <td>2009.0</td>\n",
       "      <td>2014.0</td>\n",
       "      <td>2017.0</td>\n",
       "    </tr>\n",
       "    <tr>\n",
       "      <th>month</th>\n",
       "      <td>164384.0</td>\n",
       "      <td>6.481999</td>\n",
       "      <td>3.388046</td>\n",
       "      <td>0.0</td>\n",
       "      <td>4.0</td>\n",
       "      <td>6.0</td>\n",
       "      <td>9.0</td>\n",
       "      <td>12.0</td>\n",
       "    </tr>\n",
       "    <tr>\n",
       "      <th>day</th>\n",
       "      <td>164384.0</td>\n",
       "      <td>15.516644</td>\n",
       "      <td>8.807003</td>\n",
       "      <td>0.0</td>\n",
       "      <td>8.0</td>\n",
       "      <td>15.0</td>\n",
       "      <td>23.0</td>\n",
       "      <td>31.0</td>\n",
       "    </tr>\n",
       "    <tr>\n",
       "      <th>extended</th>\n",
       "      <td>164384.0</td>\n",
       "      <td>0.033069</td>\n",
       "      <td>0.178817</td>\n",
       "      <td>0.0</td>\n",
       "      <td>0.0</td>\n",
       "      <td>0.0</td>\n",
       "      <td>0.0</td>\n",
       "      <td>1.0</td>\n",
       "    </tr>\n",
       "    <tr>\n",
       "      <th>success</th>\n",
       "      <td>164384.0</td>\n",
       "      <td>0.882160</td>\n",
       "      <td>0.322419</td>\n",
       "      <td>0.0</td>\n",
       "      <td>1.0</td>\n",
       "      <td>1.0</td>\n",
       "      <td>1.0</td>\n",
       "      <td>1.0</td>\n",
       "    </tr>\n",
       "    <tr>\n",
       "      <th>suicide</th>\n",
       "      <td>164384.0</td>\n",
       "      <td>0.037248</td>\n",
       "      <td>0.189370</td>\n",
       "      <td>0.0</td>\n",
       "      <td>0.0</td>\n",
       "      <td>0.0</td>\n",
       "      <td>0.0</td>\n",
       "      <td>1.0</td>\n",
       "    </tr>\n",
       "    <tr>\n",
       "      <th>wound</th>\n",
       "      <td>164384.0</td>\n",
       "      <td>3.168788</td>\n",
       "      <td>36.048736</td>\n",
       "      <td>0.0</td>\n",
       "      <td>0.0</td>\n",
       "      <td>0.0</td>\n",
       "      <td>2.0</td>\n",
       "      <td>8191.0</td>\n",
       "    </tr>\n",
       "    <tr>\n",
       "      <th>killed</th>\n",
       "      <td>164384.0</td>\n",
       "      <td>2.133419</td>\n",
       "      <td>9.821208</td>\n",
       "      <td>0.0</td>\n",
       "      <td>0.0</td>\n",
       "      <td>0.0</td>\n",
       "      <td>2.0</td>\n",
       "      <td>1384.0</td>\n",
       "    </tr>\n",
       "  </tbody>\n",
       "</table>\n",
       "</div>"
      ],
      "text/plain": [
       "             count         mean        std     min     25%     50%     75%  \\\n",
       "year      164384.0  2003.174348  12.789087  1970.0  1991.0  2009.0  2014.0   \n",
       "month     164384.0     6.481999   3.388046     0.0     4.0     6.0     9.0   \n",
       "day       164384.0    15.516644   8.807003     0.0     8.0    15.0    23.0   \n",
       "extended  164384.0     0.033069   0.178817     0.0     0.0     0.0     0.0   \n",
       "success   164384.0     0.882160   0.322419     0.0     1.0     1.0     1.0   \n",
       "suicide   164384.0     0.037248   0.189370     0.0     0.0     0.0     0.0   \n",
       "wound     164384.0     3.168788  36.048736     0.0     0.0     0.0     2.0   \n",
       "killed    164384.0     2.133419   9.821208     0.0     0.0     0.0     2.0   \n",
       "\n",
       "             max  \n",
       "year      2017.0  \n",
       "month       12.0  \n",
       "day         31.0  \n",
       "extended     1.0  \n",
       "success      1.0  \n",
       "suicide      1.0  \n",
       "wound     8191.0  \n",
       "killed    1384.0  "
      ]
     },
     "execution_count": 22,
     "metadata": {},
     "output_type": "execute_result"
    }
   ],
   "source": [
    "gt.describe().T"
   ]
  },
  {
   "cell_type": "markdown",
   "metadata": {},
   "source": [
    "# Visualization "
   ]
  },
  {
   "cell_type": "markdown",
   "metadata": {},
   "source": [
    "### Number of Terrorist attack in year wise"
   ]
  },
  {
   "cell_type": "code",
   "execution_count": 23,
   "metadata": {},
   "outputs": [
    {
     "data": {
      "image/png": "[encoded data removed]",
      "text/plain": [
       "<Figure size 720x576 with 1 Axes>"
      ]
     },
     "metadata": {
      "needs_background": "light"
     },
     "output_type": "display_data"
    }
   ],
   "source": [
    "plt.subplots(figsize=(10,8))\n",
    "sns.countplot('year',data=gt,palette='rocket',edgecolor=sns.color_palette('dark',7))\n",
    "plt.xticks(rotation=90)\n",
    "plt.xlabel('Year of attack')\n",
    "plt.title('Number Of Terrorist Act Each Year')\n",
    "plt.show()"
   ]
  },
  {
   "cell_type": "markdown",
   "metadata": {},
   "source": [
    "### Neat graph in year wise"
   ]
  },
  {
   "cell_type": "code",
   "execution_count": 24,
   "metadata": {
    "scrolled": true
   },
   "outputs": [
    {
     "data": {
      "text/html": [
       "<div>\n",
       "<style scoped>\n",
       "    .dataframe tbody tr th:only-of-type {\n",
       "        vertical-align: middle;\n",
       "    }\n",
       "\n",
       "    .dataframe tbody tr th {\n",
       "        vertical-align: top;\n",
       "    }\n",
       "\n",
       "    .dataframe thead th {\n",
       "        text-align: right;\n",
       "    }\n",
       "</style>\n",
       "<table border=\"1\" class=\"dataframe\">\n",
       "  <thead>\n",
       "    <tr style=\"text-align: right;\">\n",
       "      <th></th>\n",
       "      <th>year</th>\n",
       "      <th>Decade</th>\n",
       "    </tr>\n",
       "  </thead>\n",
       "  <tbody>\n",
       "    <tr>\n",
       "      <th>26470</th>\n",
       "      <td>1985</td>\n",
       "      <td>1980-1990</td>\n",
       "    </tr>\n",
       "    <tr>\n",
       "      <th>77837</th>\n",
       "      <td>2005</td>\n",
       "      <td>2000-2010</td>\n",
       "    </tr>\n",
       "    <tr>\n",
       "      <th>129282</th>\n",
       "      <td>2014</td>\n",
       "      <td>2010-2017</td>\n",
       "    </tr>\n",
       "    <tr>\n",
       "      <th>27132</th>\n",
       "      <td>1986</td>\n",
       "      <td>1980-1990</td>\n",
       "    </tr>\n",
       "    <tr>\n",
       "      <th>101767</th>\n",
       "      <td>2011</td>\n",
       "      <td>2010-2017</td>\n",
       "    </tr>\n",
       "    <tr>\n",
       "      <th>92564</th>\n",
       "      <td>2009</td>\n",
       "      <td>2000-2010</td>\n",
       "    </tr>\n",
       "    <tr>\n",
       "      <th>39596</th>\n",
       "      <td>1989</td>\n",
       "      <td>1980-1990</td>\n",
       "    </tr>\n",
       "    <tr>\n",
       "      <th>173010</th>\n",
       "      <td>2017</td>\n",
       "      <td>2010-2017</td>\n",
       "    </tr>\n",
       "    <tr>\n",
       "      <th>116233</th>\n",
       "      <td>2013</td>\n",
       "      <td>2010-2017</td>\n",
       "    </tr>\n",
       "    <tr>\n",
       "      <th>117449</th>\n",
       "      <td>2013</td>\n",
       "      <td>2010-2017</td>\n",
       "    </tr>\n",
       "  </tbody>\n",
       "</table>\n",
       "</div>"
      ],
      "text/plain": [
       "        year     Decade\n",
       "26470   1985  1980-1990\n",
       "77837   2005  2000-2010\n",
       "129282  2014  2010-2017\n",
       "27132   1986  1980-1990\n",
       "101767  2011  2010-2017\n",
       "92564   2009  2000-2010\n",
       "39596   1989  1980-1990\n",
       "173010  2017  2010-2017\n",
       "116233  2013  2010-2017\n",
       "117449  2013  2010-2017"
      ]
     },
     "execution_count": 24,
     "metadata": {},
     "output_type": "execute_result"
    }
   ],
   "source": [
    "gt['Decade'] = pd.cut(gt['year'], bins=[1969, 1980, 1990, 2000, 2010, 2020], labels=['1970-1980', '1980-1990', '1990-2000', '2000-2010', '2010-2017'])\n",
    "gt[['year','Decade']].sample(10)"
   ]
  },
  {
   "cell_type": "code",
   "execution_count": 31,
   "metadata": {},
   "outputs": [
    {
     "data": {
      "image/png": "[encoded data removed]",
      "text/plain": [
       "<Figure size 432x288 with 1 Axes>"
      ]
     },
     "metadata": {},
     "output_type": "display_data"
    }
   ],
   "source": [
    "deca= gt['Decade'].value_counts()\n",
    "colors= 'pink','black','red','cyan','m'\n",
    "plt.pie(deca,labels=deca.index,colors=colors,autopct='%1.1f%%', startangle=180)\n",
    "plt.axis('equal')\n",
    "plt.show()"
   ]
  },
  {
   "cell_type": "markdown",
   "metadata": {},
   "source": [
    "### Number of Terrorist attack by region wise"
   ]
  },
  {
   "cell_type": "code",
   "execution_count": 32,
   "metadata": {},
   "outputs": [
    {
     "data": {
      "image/png": "[encoded data removed]",
      "text/plain": [
       "<Figure size 432x288 with 1 Axes>"
      ]
     },
     "metadata": {
      "needs_background": "light"
     },
     "output_type": "display_data"
    }
   ],
   "source": [
    "sns.countplot('region',data=gt,palette='dark',order=gt['region'].value_counts().index)\n",
    "plt.xticks(rotation=90)\n",
    "plt.xlabel('Regions')\n",
    "plt.title('Number Of Terrorist Activities By Region')\n",
    "plt.show()"
   ]
  },
  {
   "cell_type": "markdown",
   "metadata": {},
   "source": [
    "### Which cities attack most time"
   ]
  },
  {
   "cell_type": "code",
   "execution_count": 33,
   "metadata": {},
   "outputs": [],
   "source": [
    "def city_name(country=list(gt['country'].unique())):\n",
    "    a=gt[gt['country']==country]\n",
    "    a=pd.DataFrame(a['city'].value_counts().iloc[1:10])\n",
    "    return a.style.highlight_max(axis=0, color='cyan').highlight_min(axis=0, color='blue')"
   ]
  },
  {
   "cell_type": "code",
   "execution_count": 34,
   "metadata": {
    "scrolled": true
   },
   "outputs": [
    {
     "data": {
      "text/html": [
       "<style  type=\"text/css\" >\n",
       "#T_90b1758d_c51d_11eb_87ce_0068ebd7c8b9row0_col0{\n",
       "            background-color:  cyan;\n",
       "        }#T_90b1758d_c51d_11eb_87ce_0068ebd7c8b9row8_col0{\n",
       "            background-color:  blue;\n",
       "        }</style><table id=\"T_90b1758d_c51d_11eb_87ce_0068ebd7c8b9\" ><thead>    <tr>        <th class=\"blank level0\" ></th>        <th class=\"col_heading level0 col0\" >city</th>    </tr></thead><tbody>\n",
       "                <tr>\n",
       "                        <th id=\"T_90b1758d_c51d_11eb_87ce_0068ebd7c8b9level0_row0\" class=\"row_heading level0 row0\" >Baghdad</th>\n",
       "                        <td id=\"T_90b1758d_c51d_11eb_87ce_0068ebd7c8b9row0_col0\" class=\"data row0 col0\" >7374</td>\n",
       "            </tr>\n",
       "            <tr>\n",
       "                        <th id=\"T_90b1758d_c51d_11eb_87ce_0068ebd7c8b9level0_row1\" class=\"row_heading level0 row1\" >Karachi</th>\n",
       "                        <td id=\"T_90b1758d_c51d_11eb_87ce_0068ebd7c8b9row1_col0\" class=\"data row1 col0\" >2571</td>\n",
       "            </tr>\n",
       "            <tr>\n",
       "                        <th id=\"T_90b1758d_c51d_11eb_87ce_0068ebd7c8b9level0_row2\" class=\"row_heading level0 row2\" >Lima</th>\n",
       "                        <td id=\"T_90b1758d_c51d_11eb_87ce_0068ebd7c8b9row2_col0\" class=\"data row2 col0\" >2124</td>\n",
       "            </tr>\n",
       "            <tr>\n",
       "                        <th id=\"T_90b1758d_c51d_11eb_87ce_0068ebd7c8b9level0_row3\" class=\"row_heading level0 row3\" >Mosul</th>\n",
       "                        <td id=\"T_90b1758d_c51d_11eb_87ce_0068ebd7c8b9row3_col0\" class=\"data row3 col0\" >2114</td>\n",
       "            </tr>\n",
       "            <tr>\n",
       "                        <th id=\"T_90b1758d_c51d_11eb_87ce_0068ebd7c8b9level0_row4\" class=\"row_heading level0 row4\" >Mogadishu</th>\n",
       "                        <td id=\"T_90b1758d_c51d_11eb_87ce_0068ebd7c8b9row4_col0\" class=\"data row4 col0\" >1375</td>\n",
       "            </tr>\n",
       "            <tr>\n",
       "                        <th id=\"T_90b1758d_c51d_11eb_87ce_0068ebd7c8b9level0_row5\" class=\"row_heading level0 row5\" >Santiago</th>\n",
       "                        <td id=\"T_90b1758d_c51d_11eb_87ce_0068ebd7c8b9row5_col0\" class=\"data row5 col0\" >1354</td>\n",
       "            </tr>\n",
       "            <tr>\n",
       "                        <th id=\"T_90b1758d_c51d_11eb_87ce_0068ebd7c8b9level0_row6\" class=\"row_heading level0 row6\" >Belfast</th>\n",
       "                        <td id=\"T_90b1758d_c51d_11eb_87ce_0068ebd7c8b9row6_col0\" class=\"data row6 col0\" >1328</td>\n",
       "            </tr>\n",
       "            <tr>\n",
       "                        <th id=\"T_90b1758d_c51d_11eb_87ce_0068ebd7c8b9level0_row7\" class=\"row_heading level0 row7\" >San Salvador</th>\n",
       "                        <td id=\"T_90b1758d_c51d_11eb_87ce_0068ebd7c8b9row7_col0\" class=\"data row7 col0\" >1254</td>\n",
       "            </tr>\n",
       "            <tr>\n",
       "                        <th id=\"T_90b1758d_c51d_11eb_87ce_0068ebd7c8b9level0_row8\" class=\"row_heading level0 row8\" >Istanbul</th>\n",
       "                        <td id=\"T_90b1758d_c51d_11eb_87ce_0068ebd7c8b9row8_col0\" class=\"data row8 col0\" >1011</td>\n",
       "            </tr>\n",
       "    </tbody></table>"
      ],
      "text/plain": [
       "<pandas.io.formats.style.Styler at 0x1769297d400>"
      ]
     },
     "execution_count": 34,
     "metadata": {},
     "output_type": "execute_result"
    }
   ],
   "source": [
    "city_name(gt['country'])"
   ]
  },
  {
   "cell_type": "markdown",
   "metadata": {},
   "source": [
    "### Which weapons Maximum used by terrorist"
   ]
  },
  {
   "cell_type": "code",
   "execution_count": 35,
   "metadata": {},
   "outputs": [],
   "source": [
    "def weapon_type(country=list(gt['country'].unique())):\n",
    "    a=gt[gt['country']==country]\n",
    "    a=pd.DataFrame(a['weapon'].value_counts())\n",
    "    return a.style.highlight_max(axis=0)"
   ]
  },
  {
   "cell_type": "code",
   "execution_count": 36,
   "metadata": {
    "scrolled": true
   },
   "outputs": [
    {
     "data": {
      "text/html": [
       "<style  type=\"text/css\" >\n",
       "#T_a12982a3_c51d_11eb_9e79_0068ebd7c8b9row0_col0{\n",
       "            background-color:  yellow;\n",
       "        }</style><table id=\"T_a12982a3_c51d_11eb_9e79_0068ebd7c8b9\" ><thead>    <tr>        <th class=\"blank level0\" ></th>        <th class=\"col_heading level0 col0\" >weapon</th>    </tr></thead><tbody>\n",
       "                <tr>\n",
       "                        <th id=\"T_a12982a3_c51d_11eb_9e79_0068ebd7c8b9level0_row0\" class=\"row_heading level0 row0\" >Explosives</th>\n",
       "                        <td id=\"T_a12982a3_c51d_11eb_9e79_0068ebd7c8b9row0_col0\" class=\"data row0 col0\" >86231</td>\n",
       "            </tr>\n",
       "            <tr>\n",
       "                        <th id=\"T_a12982a3_c51d_11eb_9e79_0068ebd7c8b9level0_row1\" class=\"row_heading level0 row1\" >Firearms</th>\n",
       "                        <td id=\"T_a12982a3_c51d_11eb_9e79_0068ebd7c8b9row1_col0\" class=\"data row1 col0\" >51645</td>\n",
       "            </tr>\n",
       "            <tr>\n",
       "                        <th id=\"T_a12982a3_c51d_11eb_9e79_0068ebd7c8b9level0_row2\" class=\"row_heading level0 row2\" >Unknown</th>\n",
       "                        <td id=\"T_a12982a3_c51d_11eb_9e79_0068ebd7c8b9row2_col0\" class=\"data row2 col0\" >12083</td>\n",
       "            </tr>\n",
       "            <tr>\n",
       "                        <th id=\"T_a12982a3_c51d_11eb_9e79_0068ebd7c8b9level0_row3\" class=\"row_heading level0 row3\" >Incendiary</th>\n",
       "                        <td id=\"T_a12982a3_c51d_11eb_9e79_0068ebd7c8b9row3_col0\" class=\"data row3 col0\" >10285</td>\n",
       "            </tr>\n",
       "            <tr>\n",
       "                        <th id=\"T_a12982a3_c51d_11eb_9e79_0068ebd7c8b9level0_row4\" class=\"row_heading level0 row4\" >Melee</th>\n",
       "                        <td id=\"T_a12982a3_c51d_11eb_9e79_0068ebd7c8b9row4_col0\" class=\"data row4 col0\" >3381</td>\n",
       "            </tr>\n",
       "            <tr>\n",
       "                        <th id=\"T_a12982a3_c51d_11eb_9e79_0068ebd7c8b9level0_row5\" class=\"row_heading level0 row5\" >Chemical</th>\n",
       "                        <td id=\"T_a12982a3_c51d_11eb_9e79_0068ebd7c8b9row5_col0\" class=\"data row5 col0\" >302</td>\n",
       "            </tr>\n",
       "            <tr>\n",
       "                        <th id=\"T_a12982a3_c51d_11eb_9e79_0068ebd7c8b9level0_row6\" class=\"row_heading level0 row6\" >Sabotage Equipment</th>\n",
       "                        <td id=\"T_a12982a3_c51d_11eb_9e79_0068ebd7c8b9row6_col0\" class=\"data row6 col0\" >136</td>\n",
       "            </tr>\n",
       "            <tr>\n",
       "                        <th id=\"T_a12982a3_c51d_11eb_9e79_0068ebd7c8b9level0_row7\" class=\"row_heading level0 row7\" >Vehicle (not to include vehicle-borne explosives, i.e., car or truck bombs)</th>\n",
       "                        <td id=\"T_a12982a3_c51d_11eb_9e79_0068ebd7c8b9row7_col0\" class=\"data row7 col0\" >133</td>\n",
       "            </tr>\n",
       "            <tr>\n",
       "                        <th id=\"T_a12982a3_c51d_11eb_9e79_0068ebd7c8b9level0_row8\" class=\"row_heading level0 row8\" >Other</th>\n",
       "                        <td id=\"T_a12982a3_c51d_11eb_9e79_0068ebd7c8b9row8_col0\" class=\"data row8 col0\" >109</td>\n",
       "            </tr>\n",
       "            <tr>\n",
       "                        <th id=\"T_a12982a3_c51d_11eb_9e79_0068ebd7c8b9level0_row9\" class=\"row_heading level0 row9\" >Fake Weapons</th>\n",
       "                        <td id=\"T_a12982a3_c51d_11eb_9e79_0068ebd7c8b9row9_col0\" class=\"data row9 col0\" >33</td>\n",
       "            </tr>\n",
       "            <tr>\n",
       "                        <th id=\"T_a12982a3_c51d_11eb_9e79_0068ebd7c8b9level0_row10\" class=\"row_heading level0 row10\" >Biological</th>\n",
       "                        <td id=\"T_a12982a3_c51d_11eb_9e79_0068ebd7c8b9row10_col0\" class=\"data row10 col0\" >32</td>\n",
       "            </tr>\n",
       "            <tr>\n",
       "                        <th id=\"T_a12982a3_c51d_11eb_9e79_0068ebd7c8b9level0_row11\" class=\"row_heading level0 row11\" >Radiological</th>\n",
       "                        <td id=\"T_a12982a3_c51d_11eb_9e79_0068ebd7c8b9row11_col0\" class=\"data row11 col0\" >14</td>\n",
       "            </tr>\n",
       "    </tbody></table>"
      ],
      "text/plain": [
       "<pandas.io.formats.style.Styler at 0x1769294ac40>"
      ]
     },
     "execution_count": 36,
     "metadata": {},
     "output_type": "execute_result"
    }
   ],
   "source": [
    "weapon_type(gt['country'])"
   ]
  },
  {
   "cell_type": "code",
   "execution_count": 37,
   "metadata": {},
   "outputs": [
    {
     "data": {
      "image/png": "[encoded data removed]",
      "text/plain": [
       "<Figure size 432x288 with 1 Axes>"
      ]
     },
     "metadata": {
      "needs_background": "light"
     },
     "output_type": "display_data"
    }
   ],
   "source": [
    "sns.countplot('weapon',data=gt,palette='bright',order=gt['weapon'].value_counts().index)\n",
    "plt.xticks(rotation=90)\n",
    "plt.xlabel('weapons')\n",
    "plt.title('weapons of Terrorist')\n",
    "plt.show()"
   ]
  },
  {
   "cell_type": "markdown",
   "metadata": {},
   "source": [
    "### What is target of Terrorist?"
   ]
  },
  {
   "cell_type": "code",
   "execution_count": 38,
   "metadata": {},
   "outputs": [
    {
     "data": {
      "image/png": "[encoded data removed]",
      "text/plain": [
       "<Figure size 432x288 with 1 Axes>"
      ]
     },
     "metadata": {
      "needs_background": "light"
     },
     "output_type": "display_data"
    }
   ],
   "source": [
    "sns.countplot('target',data=gt,palette='bright',order=gt['target'].value_counts().index)\n",
    "plt.xticks(rotation=90)\n",
    "plt.xlabel('target')\n",
    "plt.title('Target of Terrorist')\n",
    "plt.show()"
   ]
  },
  {
   "cell_type": "markdown",
   "metadata": {},
   "source": [
    "### Which people highly affect"
   ]
  },
  {
   "cell_type": "code",
   "execution_count": 42,
   "metadata": {},
   "outputs": [
    {
     "data": {
      "text/plain": [
       "Text(0, 0.5, 'Wounded')"
      ]
     },
     "execution_count": 42,
     "metadata": {},
     "output_type": "execute_result"
    },
    {
     "data": {
      "image/png": "[encoded data removed]",
      "text/plain": [
       "<Figure size 1080x576 with 1 Axes>"
      ]
     },
     "metadata": {
      "needs_background": "light"
     },
     "output_type": "display_data"
    }
   ],
   "source": [
    "h=gt.groupby(['year','region'])['killed'].sum()\n",
    "plot_data = h.unstack('region').loc[:]\n",
    "plot_data.index = pd.PeriodIndex(plot_data.index.tolist(),freq='A')\n",
    "plot_data.plot(figsize=(15,8),color=sns.color_palette('dark',12))\n",
    "plt.xlabel(\"Year\")\n",
    "plt.ylabel(\"Wounded\")"
   ]
  },
  {
   "cell_type": "markdown",
   "metadata": {},
   "source": [
    "### percentage of success and failure attacks"
   ]
  },
  {
   "cell_type": "code",
   "execution_count": 43,
   "metadata": {
    "scrolled": true
   },
   "outputs": [
    {
     "data": {
      "text/plain": [
       "1    145013\n",
       "0     19371\n",
       "Name: success, dtype: int64"
      ]
     },
     "execution_count": 43,
     "metadata": {},
     "output_type": "execute_result"
    }
   ],
   "source": [
    "success = gt['success'].value_counts()\n",
    "success"
   ]
  },
  {
   "cell_type": "code",
   "execution_count": 45,
   "metadata": {
    "scrolled": false
   },
   "outputs": [
    {
     "data": {
      "image/png": "[encoded data removed]",
      "text/plain": [
       "<Figure size 432x288 with 1 Axes>"
      ]
     },
     "metadata": {},
     "output_type": "display_data"
    }
   ],
   "source": [
    "labels = 'Successful', 'Failed'\n",
    "colors = ['cyan', 'black']\n",
    "explode = (0.25, 0)\n",
    "plt.pie(success, labels=labels, explode=explode,colors=colors,autopct='%1.1f%%', shadow=True, startangle=200)\n",
    "plt.show()"
   ]
  },
  {
   "cell_type": "markdown",
   "metadata": {},
   "source": [
    "# Summarize:\n",
    "<li>**2010-2017** year is highly attacked by terrorist\n",
    "<li>**Middle East and North Africa** Region Mostly affect \n",
    "<li>In city wise **Baghdad** city highly affect\n",
    "<li>In terrorist moslty **use Explosive, firearms **weapon but they **leastuse any biological and radiology**\n",
    "<li>**Middle east and South Africa more people killed** by terrorist its is Hot zone\n",
    "<li>**88.2% **terrorist plane success remain **11.8% **they plan failed</div>"
   ]
  }
 ],
 "metadata": {
  "kernelspec": {
   "display_name": "Python 3",
   "language": "python",
   "name": "python3"
  },
  "language_info": {
   "codemirror_mode": {
    "name": "ipython",
    "version": 3
   },
   "file_extension": ".py",
   "mimetype": "text/x-python",
   "name": "python",
   "nbconvert_exporter": "python",
   "pygments_lexer": "ipython3",
   "version": "3.8.5"
  }
 },
 "nbformat": 4,
 "nbformat_minor": 2
}
